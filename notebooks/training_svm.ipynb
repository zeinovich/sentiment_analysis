{
 "cells": [
  {
   "attachments": {},
   "cell_type": "markdown",
   "metadata": {},
   "source": [
    "## Training model"
   ]
  },
  {
   "cell_type": "code",
   "execution_count": 2,
   "metadata": {},
   "outputs": [],
   "source": [
    "import pandas as pd\n",
    "import numpy as np\n",
    "import matplotlib.pyplot as plt"
   ]
  },
  {
   "cell_type": "code",
   "execution_count": 3,
   "metadata": {},
   "outputs": [],
   "source": [
    "train = pd.read_csv('../data/roberta_train.csv')\n",
    "test = pd.read_csv('../data/roberta_test.csv')"
   ]
  },
  {
   "cell_type": "code",
   "execution_count": 18,
   "metadata": {},
   "outputs": [
    {
     "data": {
      "text/plain": [
       "(25000, 25000)"
      ]
     },
     "execution_count": 18,
     "metadata": {},
     "output_type": "execute_result"
    }
   ],
   "source": [
    "len(train), len(test)"
   ]
  },
  {
   "attachments": {},
   "cell_type": "markdown",
   "metadata": {},
   "source": [
    "### Bins"
   ]
  },
  {
   "attachments": {},
   "cell_type": "markdown",
   "metadata": {},
   "source": [
    "I'll try to separate rating into 2, 3 and 5 bins. \n",
    "\n",
    "- 2 bins - positive and negative\n",
    "- 3 bins - positive, neutral and negative\n",
    "- 5 bins - from strongly negative to strongly positive"
   ]
  },
  {
   "cell_type": "code",
   "execution_count": 19,
   "metadata": {},
   "outputs": [],
   "source": [
    "from math import ceil\n",
    "\n",
    "def five_bins(x):\n",
    "    return ceil(x / 2)\n",
    "\n",
    "def three_bins(x):\n",
    "    if x <= 3:\n",
    "        return 0\n",
    "    \n",
    "    elif x <=6:\n",
    "        return 1\n",
    "    \n",
    "    return 2\n",
    "\n",
    "def two_bins(x):\n",
    "    return 1 if x > 5 else 0"
   ]
  },
  {
   "cell_type": "code",
   "execution_count": 20,
   "metadata": {},
   "outputs": [
    {
     "data": {
      "text/html": [
       "<div>\n",
       "<style scoped>\n",
       "    .dataframe tbody tr th:only-of-type {\n",
       "        vertical-align: middle;\n",
       "    }\n",
       "\n",
       "    .dataframe tbody tr th {\n",
       "        vertical-align: top;\n",
       "    }\n",
       "\n",
       "    .dataframe thead th {\n",
       "        text-align: right;\n",
       "    }\n",
       "</style>\n",
       "<table border=\"1\" class=\"dataframe\">\n",
       "  <thead>\n",
       "    <tr style=\"text-align: right;\">\n",
       "      <th></th>\n",
       "      <th>rating</th>\n",
       "      <th>neg</th>\n",
       "      <th>neu</th>\n",
       "      <th>pos</th>\n",
       "      <th>two_bins</th>\n",
       "      <th>three_bins</th>\n",
       "      <th>five_bins</th>\n",
       "    </tr>\n",
       "  </thead>\n",
       "  <tbody>\n",
       "    <tr>\n",
       "      <th>0</th>\n",
       "      <td>7</td>\n",
       "      <td>-0.531845</td>\n",
       "      <td>0.619221</td>\n",
       "      <td>-0.044027</td>\n",
       "      <td>1</td>\n",
       "      <td>2</td>\n",
       "      <td>4</td>\n",
       "    </tr>\n",
       "    <tr>\n",
       "      <th>1</th>\n",
       "      <td>10</td>\n",
       "      <td>-1.119548</td>\n",
       "      <td>-0.347246</td>\n",
       "      <td>1.918200</td>\n",
       "      <td>1</td>\n",
       "      <td>2</td>\n",
       "      <td>5</td>\n",
       "    </tr>\n",
       "    <tr>\n",
       "      <th>2</th>\n",
       "      <td>10</td>\n",
       "      <td>-0.124219</td>\n",
       "      <td>0.337150</td>\n",
       "      <td>-0.207956</td>\n",
       "      <td>1</td>\n",
       "      <td>2</td>\n",
       "      <td>5</td>\n",
       "    </tr>\n",
       "    <tr>\n",
       "      <th>3</th>\n",
       "      <td>10</td>\n",
       "      <td>-2.534032</td>\n",
       "      <td>0.128516</td>\n",
       "      <td>2.739633</td>\n",
       "      <td>1</td>\n",
       "      <td>2</td>\n",
       "      <td>5</td>\n",
       "    </tr>\n",
       "    <tr>\n",
       "      <th>4</th>\n",
       "      <td>10</td>\n",
       "      <td>-1.682061</td>\n",
       "      <td>0.453609</td>\n",
       "      <td>1.442397</td>\n",
       "      <td>1</td>\n",
       "      <td>2</td>\n",
       "      <td>5</td>\n",
       "    </tr>\n",
       "  </tbody>\n",
       "</table>\n",
       "</div>"
      ],
      "text/plain": [
       "   rating       neg       neu       pos  two_bins  three_bins  five_bins\n",
       "0       7 -0.531845  0.619221 -0.044027         1           2          4\n",
       "1      10 -1.119548 -0.347246  1.918200         1           2          5\n",
       "2      10 -0.124219  0.337150 -0.207956         1           2          5\n",
       "3      10 -2.534032  0.128516  2.739633         1           2          5\n",
       "4      10 -1.682061  0.453609  1.442397         1           2          5"
      ]
     },
     "execution_count": 20,
     "metadata": {},
     "output_type": "execute_result"
    }
   ],
   "source": [
    "train['two_bins'] = train['rating'].apply(two_bins)\n",
    "train['three_bins'] = train['rating'].apply(three_bins)\n",
    "train['five_bins'] = train['rating'].apply(five_bins)\n",
    "train.head()"
   ]
  },
  {
   "cell_type": "code",
   "execution_count": 21,
   "metadata": {},
   "outputs": [
    {
     "data": {
      "text/html": [
       "<div>\n",
       "<style scoped>\n",
       "    .dataframe tbody tr th:only-of-type {\n",
       "        vertical-align: middle;\n",
       "    }\n",
       "\n",
       "    .dataframe tbody tr th {\n",
       "        vertical-align: top;\n",
       "    }\n",
       "\n",
       "    .dataframe thead th {\n",
       "        text-align: right;\n",
       "    }\n",
       "</style>\n",
       "<table border=\"1\" class=\"dataframe\">\n",
       "  <thead>\n",
       "    <tr style=\"text-align: right;\">\n",
       "      <th></th>\n",
       "      <th>rating</th>\n",
       "      <th>neg</th>\n",
       "      <th>neu</th>\n",
       "      <th>pos</th>\n",
       "      <th>two_bins</th>\n",
       "      <th>three_bins</th>\n",
       "      <th>five_bins</th>\n",
       "    </tr>\n",
       "  </thead>\n",
       "  <tbody>\n",
       "    <tr>\n",
       "      <th>count</th>\n",
       "      <td>25000.000000</td>\n",
       "      <td>25000.000000</td>\n",
       "      <td>25000.000000</td>\n",
       "      <td>25000.000000</td>\n",
       "      <td>25000.00000</td>\n",
       "      <td>25000.000000</td>\n",
       "      <td>25000.000000</td>\n",
       "    </tr>\n",
       "    <tr>\n",
       "      <th>mean</th>\n",
       "      <td>5.477720</td>\n",
       "      <td>-0.018480</td>\n",
       "      <td>0.127644</td>\n",
       "      <td>0.002857</td>\n",
       "      <td>0.50000</td>\n",
       "      <td>1.107840</td>\n",
       "      <td>2.984440</td>\n",
       "    </tr>\n",
       "    <tr>\n",
       "      <th>std</th>\n",
       "      <td>3.466477</td>\n",
       "      <td>1.583001</td>\n",
       "      <td>0.363694</td>\n",
       "      <td>1.787606</td>\n",
       "      <td>0.50001</td>\n",
       "      <td>0.938385</td>\n",
       "      <td>1.650862</td>\n",
       "    </tr>\n",
       "    <tr>\n",
       "      <th>min</th>\n",
       "      <td>1.000000</td>\n",
       "      <td>-3.450105</td>\n",
       "      <td>-1.144533</td>\n",
       "      <td>-2.985000</td>\n",
       "      <td>0.00000</td>\n",
       "      <td>0.000000</td>\n",
       "      <td>1.000000</td>\n",
       "    </tr>\n",
       "    <tr>\n",
       "      <th>25%</th>\n",
       "      <td>2.000000</td>\n",
       "      <td>-1.410177</td>\n",
       "      <td>-0.093660</td>\n",
       "      <td>-1.463492</td>\n",
       "      <td>0.00000</td>\n",
       "      <td>0.000000</td>\n",
       "      <td>1.000000</td>\n",
       "    </tr>\n",
       "    <tr>\n",
       "      <th>50%</th>\n",
       "      <td>5.500000</td>\n",
       "      <td>0.030347</td>\n",
       "      <td>0.165885</td>\n",
       "      <td>-0.383358</td>\n",
       "      <td>0.50000</td>\n",
       "      <td>1.500000</td>\n",
       "      <td>3.000000</td>\n",
       "    </tr>\n",
       "    <tr>\n",
       "      <th>75%</th>\n",
       "      <td>9.000000</td>\n",
       "      <td>1.183842</td>\n",
       "      <td>0.370517</td>\n",
       "      <td>1.400316</td>\n",
       "      <td>1.00000</td>\n",
       "      <td>2.000000</td>\n",
       "      <td>5.000000</td>\n",
       "    </tr>\n",
       "    <tr>\n",
       "      <th>max</th>\n",
       "      <td>10.000000</td>\n",
       "      <td>3.416885</td>\n",
       "      <td>1.553279</td>\n",
       "      <td>4.220171</td>\n",
       "      <td>1.00000</td>\n",
       "      <td>2.000000</td>\n",
       "      <td>5.000000</td>\n",
       "    </tr>\n",
       "  </tbody>\n",
       "</table>\n",
       "</div>"
      ],
      "text/plain": [
       "             rating           neg           neu           pos     two_bins  \\\n",
       "count  25000.000000  25000.000000  25000.000000  25000.000000  25000.00000   \n",
       "mean       5.477720     -0.018480      0.127644      0.002857      0.50000   \n",
       "std        3.466477      1.583001      0.363694      1.787606      0.50001   \n",
       "min        1.000000     -3.450105     -1.144533     -2.985000      0.00000   \n",
       "25%        2.000000     -1.410177     -0.093660     -1.463492      0.00000   \n",
       "50%        5.500000      0.030347      0.165885     -0.383358      0.50000   \n",
       "75%        9.000000      1.183842      0.370517      1.400316      1.00000   \n",
       "max       10.000000      3.416885      1.553279      4.220171      1.00000   \n",
       "\n",
       "         three_bins     five_bins  \n",
       "count  25000.000000  25000.000000  \n",
       "mean       1.107840      2.984440  \n",
       "std        0.938385      1.650862  \n",
       "min        0.000000      1.000000  \n",
       "25%        0.000000      1.000000  \n",
       "50%        1.500000      3.000000  \n",
       "75%        2.000000      5.000000  \n",
       "max        2.000000      5.000000  "
      ]
     },
     "execution_count": 21,
     "metadata": {},
     "output_type": "execute_result"
    }
   ],
   "source": [
    "train.describe()"
   ]
  },
  {
   "cell_type": "code",
   "execution_count": 29,
   "metadata": {},
   "outputs": [
    {
     "data": {
      "text/plain": [
       "<AxesSubplot:>"
      ]
     },
     "execution_count": 29,
     "metadata": {},
     "output_type": "execute_result"
    },
    {
     "data": {
      "image/png": "[encoded data removed]",
      "text/plain": [
       "<Figure size 640x480 with 2 Axes>"
      ]
     },
     "metadata": {},
     "output_type": "display_data"
    }
   ],
   "source": [
    "import seaborn as sns\n",
    "\n",
    "sns.heatmap(data=train.corr(), annot=True, fmt='.2f', linewidths=.5, cmap='RdBu_r')"
   ]
  },
  {
   "cell_type": "code",
   "execution_count": 30,
   "metadata": {},
   "outputs": [],
   "source": [
    "from sklearn.model_selection import train_test_split\n",
    "\n",
    "X_train, X_val, y_train, y_val = train_test_split(train.drop(['rating', 'two_bins', 'three_bins', 'five_bins'], axis=1), \n",
    "                                                  train[['two_bins', 'three_bins', 'five_bins']], test_size=0.2)"
   ]
  },
  {
   "attachments": {},
   "cell_type": "markdown",
   "metadata": {},
   "source": [
    "Let's train three SVMs on three sets"
   ]
  },
  {
   "cell_type": "code",
   "execution_count": 32,
   "metadata": {},
   "outputs": [],
   "source": [
    "from sklearn.svm import SVC\n",
    "\n",
    "clf_2 = SVC()\n",
    "clf_2.fit(X_train, y_train['two_bins'])\n",
    "\n",
    "scores = {'two_bins': clf_2.score(X_val, y_val['two_bins'])}\n",
    "\n",
    "clf_3 = SVC()\n",
    "clf_3.fit(X_train, y_train['three_bins'])\n",
    "\n",
    "scores['three_bins'] =  clf_3.score(X_val, y_val['three_bins'])\n",
    "\n",
    "clf_5 = SVC()\n",
    "clf_5.fit(X_train, y_train['five_bins'])\n",
    "\n",
    "scores['five_bins'] =  clf_5.score(X_val, y_val['five_bins'])\n"
   ]
  },
  {
   "cell_type": "code",
   "execution_count": 33,
   "metadata": {},
   "outputs": [
    {
     "data": {
      "text/plain": [
       "{'two_bins': 0.873, 'three_bins': 0.8006, 'five_bins': 0.5664}"
      ]
     },
     "execution_count": 33,
     "metadata": {},
     "output_type": "execute_result"
    }
   ],
   "source": [
    "scores"
   ]
  },
  {
   "attachments": {},
   "cell_type": "markdown",
   "metadata": {},
   "source": [
    "- results from paper for binary classification - 57%\n",
    "- results from github for five_bins classification - 57-60%"
   ]
  },
  {
   "attachments": {},
   "cell_type": "markdown",
   "metadata": {},
   "source": [
    "### Results\n",
    "\n",
    "My finding are pretty close to what I've been able to find. For this project, I choose three_bins classification."
   ]
  },
  {
   "attachments": {},
   "cell_type": "markdown",
   "metadata": {},
   "source": [
    "# Test Set"
   ]
  },
  {
   "cell_type": "code",
   "execution_count": 34,
   "metadata": {},
   "outputs": [
    {
     "data": {
      "text/html": [
       "<div>\n",
       "<style scoped>\n",
       "    .dataframe tbody tr th:only-of-type {\n",
       "        vertical-align: middle;\n",
       "    }\n",
       "\n",
       "    .dataframe tbody tr th {\n",
       "        vertical-align: top;\n",
       "    }\n",
       "\n",
       "    .dataframe thead th {\n",
       "        text-align: right;\n",
       "    }\n",
       "</style>\n",
       "<table border=\"1\" class=\"dataframe\">\n",
       "  <thead>\n",
       "    <tr style=\"text-align: right;\">\n",
       "      <th></th>\n",
       "      <th>rating</th>\n",
       "      <th>neg</th>\n",
       "      <th>neu</th>\n",
       "      <th>pos</th>\n",
       "      <th>two_bins</th>\n",
       "      <th>three_bins</th>\n",
       "      <th>five_bins</th>\n",
       "    </tr>\n",
       "  </thead>\n",
       "  <tbody>\n",
       "    <tr>\n",
       "      <th>0</th>\n",
       "      <td>7</td>\n",
       "      <td>-1.040968</td>\n",
       "      <td>0.731092</td>\n",
       "      <td>0.329521</td>\n",
       "      <td>1</td>\n",
       "      <td>2</td>\n",
       "      <td>4</td>\n",
       "    </tr>\n",
       "    <tr>\n",
       "      <th>1</th>\n",
       "      <td>10</td>\n",
       "      <td>-1.799022</td>\n",
       "      <td>-0.148663</td>\n",
       "      <td>2.211571</td>\n",
       "      <td>1</td>\n",
       "      <td>2</td>\n",
       "      <td>5</td>\n",
       "    </tr>\n",
       "    <tr>\n",
       "      <th>2</th>\n",
       "      <td>7</td>\n",
       "      <td>-1.174041</td>\n",
       "      <td>0.242648</td>\n",
       "      <td>1.093486</td>\n",
       "      <td>1</td>\n",
       "      <td>2</td>\n",
       "      <td>4</td>\n",
       "    </tr>\n",
       "    <tr>\n",
       "      <th>3</th>\n",
       "      <td>10</td>\n",
       "      <td>-2.464963</td>\n",
       "      <td>-0.277825</td>\n",
       "      <td>3.324916</td>\n",
       "      <td>1</td>\n",
       "      <td>2</td>\n",
       "      <td>5</td>\n",
       "    </tr>\n",
       "    <tr>\n",
       "      <th>4</th>\n",
       "      <td>9</td>\n",
       "      <td>0.026421</td>\n",
       "      <td>0.432137</td>\n",
       "      <td>-0.479554</td>\n",
       "      <td>1</td>\n",
       "      <td>2</td>\n",
       "      <td>5</td>\n",
       "    </tr>\n",
       "  </tbody>\n",
       "</table>\n",
       "</div>"
      ],
      "text/plain": [
       "   rating       neg       neu       pos  two_bins  three_bins  five_bins\n",
       "0       7 -1.040968  0.731092  0.329521         1           2          4\n",
       "1      10 -1.799022 -0.148663  2.211571         1           2          5\n",
       "2       7 -1.174041  0.242648  1.093486         1           2          4\n",
       "3      10 -2.464963 -0.277825  3.324916         1           2          5\n",
       "4       9  0.026421  0.432137 -0.479554         1           2          5"
      ]
     },
     "execution_count": 34,
     "metadata": {},
     "output_type": "execute_result"
    }
   ],
   "source": [
    "test['two_bins'] = test['rating'].apply(two_bins)\n",
    "test['three_bins'] = test['rating'].apply(three_bins)\n",
    "test['five_bins'] = test['rating'].apply(five_bins)\n",
    "test.head()"
   ]
  },
  {
   "attachments": {},
   "cell_type": "markdown",
   "metadata": {},
   "source": [
    "Let's look just at clf_3"
   ]
  },
  {
   "cell_type": "code",
   "execution_count": 36,
   "metadata": {},
   "outputs": [
    {
     "data": {
      "text/plain": [
       "0.79648"
      ]
     },
     "execution_count": 36,
     "metadata": {},
     "output_type": "execute_result"
    }
   ],
   "source": [
    "clf_3.score(test.drop(['two_bins','three_bins', 'five_bins', 'rating'], axis=1), \n",
    "            test['three_bins'])"
   ]
  }
 ],
 "metadata": {
  "kernelspec": {
   "display_name": "sent_analysis",
   "language": "python",
   "name": "python3"
  },
  "language_info": {
   "codemirror_mode": {
    "name": "ipython",
    "version": 3
   },
   "file_extension": ".py",
   "mimetype": "text/x-python",
   "name": "python",
   "nbconvert_exporter": "python",
   "pygments_lexer": "ipython3",
   "version": "3.9.13"
  },
  "orig_nbformat": 4
 },
 "nbformat": 4,
 "nbformat_minor": 2
}
