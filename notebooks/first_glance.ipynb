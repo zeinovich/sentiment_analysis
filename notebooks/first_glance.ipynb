{
 "cells": [
  {
   "cell_type": "code",
   "execution_count": 1,
   "metadata": {},
   "outputs": [],
   "source": [
    "import os"
   ]
  },
  {
   "cell_type": "code",
   "execution_count": 2,
   "metadata": {},
   "outputs": [
    {
     "data": {
      "text/plain": [
       "'/home/projects/sentiment_analysis'"
      ]
     },
     "execution_count": 2,
     "metadata": {},
     "output_type": "execute_result"
    }
   ],
   "source": [
    "os.getcwd()"
   ]
  },
  {
   "attachments": {},
   "cell_type": "markdown",
   "metadata": {},
   "source": [
    "### Get lengths of test and train"
   ]
  },
  {
   "cell_type": "code",
   "execution_count": 5,
   "metadata": {},
   "outputs": [
    {
     "data": {
      "text/plain": [
       "12500"
      ]
     },
     "execution_count": 5,
     "metadata": {},
     "output_type": "execute_result"
    }
   ],
   "source": [
    "negs = os.listdir('/home/projects/sentiment_analysis/aclImdb/train/neg')\n",
    "len(negs)"
   ]
  },
  {
   "cell_type": "code",
   "execution_count": 6,
   "metadata": {},
   "outputs": [
    {
     "data": {
      "text/plain": [
       "12500"
      ]
     },
     "execution_count": 6,
     "metadata": {},
     "output_type": "execute_result"
    }
   ],
   "source": [
    "poss = os.listdir('/home/projects/sentiment_analysis/aclImdb/train/pos')\n",
    "len(poss)"
   ]
  },
  {
   "attachments": {},
   "cell_type": "markdown",
   "metadata": {},
   "source": [
    "### Dataframe"
   ]
  },
  {
   "cell_type": "code",
   "execution_count": 2,
   "metadata": {},
   "outputs": [],
   "source": [
    "import pandas as pd"
   ]
  },
  {
   "cell_type": "code",
   "execution_count": 19,
   "metadata": {},
   "outputs": [],
   "source": [
    "reviews = {}"
   ]
  },
  {
   "cell_type": "code",
   "execution_count": 20,
   "metadata": {},
   "outputs": [],
   "source": [
    "i = 0\n",
    "for root, dir, files in os.walk('/home/projects/sentiment_analysis/aclImdb/train'):\n",
    "    for file in files:\n",
    "        if file.endswith('.txt'):\n",
    "            with open(os.path.join(root, file), 'r') as f:\n",
    "                text = f.read()\n",
    "                sentiment = root.split('/')[-1]\n",
    "                rating = file.split('_')[1].split('.')[0]\n",
    "                reviews[i] = {'text': text, 'sentiment': sentiment, 'rating': rating}   \n",
    "                i += 1"
   ]
  },
  {
   "cell_type": "code",
   "execution_count": 21,
   "metadata": {},
   "outputs": [
    {
     "data": {
      "text/plain": [
       "{'text': 'This was the first televised episode of the Columbo series (although it was filmed after \"Death Lends a Hand\")and it heralded one of the most successful TV series in history.<br /><br />Jack Cassidy (who played the murderer in the series three times) enthuses smugness, arrogance and self-assuredness in equal measure here, as Ken Franklin, one half of a mystery writing team who hatches an elaborate plot to kill off his partner, Jim Ferris (played by Martin Milner) who decides to terminate their professional relationship, leaving Franklin exposed as merely a good publicist rather than a prolific writer.<br /><br />The initial murder set-up is fantastic and Cassidy\\'s performance facilitates an arguable accolade that he was the best Columbo murderer in the series.<br /><br />Peter Falk is wonderfully understated in his role as Columbo and the character\\'s inherent traits and oddities, which are underlined by a seeming slowness and absent-mindedness, contrast particularly well with Cassidy\\'s character\\'s extreme smugness: one of their early scenes together where Ken Franklin fabricates a motive for the killing through Jim Ferris\\'s non-existent expo-see of identifying hit-men operating in the underworld exemplifies this very well. Franklin hints to Columbo this potential motive and Columbo (purposely or ignorantly) fails to latch on, forcing Franklin to express his disappointment in a markedly patronising manner and compare him unfavourably with the detective in the books, Mrs. Melville.<br /><br />Also, noteworthy is the early directorial contribution of 24 year old Steven Spielberg. Notwithstanding, some elementary inclusions of cameras shadowing the actors and actresses, he adds some stylish and elaborate touches to uphold the general professionalism of the episode. One particularly stark image is of Jim Feriss\\'s dead body lying on the settee, almost dark in the foreground, as Ken Franklin raises a glass to him in the background after he finishes answering a phone call to Ferris\\'s distraught wife. I have no doubt that working to a restrictive 10-14 day schedule, Spieberg\\'s efforts should not be underestimated.<br /><br />Unfortunately, the event of the second murder, necessitated by a blackmailing scheme which is plotted by a female friend of Franklin\\'s (and ironically referred to as \"sloppy\" by Columbo in his climatic summing up) takes the steam out of the whole thing. The cutting edge of the plot is compromised and the screen-time between Falk and Cassidy inexcusably lessens at this point to perhaps help the script-writer (Stephen Bocho) out of a tight corner, since he cannot singularly develop the story without another murder.<br /><br />The climax is the most disappointing aspect of this episode. The initial banter and exchange of words between Falk and Cassidy is strongly and effectively executed, but it merely advertises the fact that it should have happened more in the episode. The main aggravation lies with the sealing clue (if it can be called a clue): Cassidy\\'s character\\'s hitherto smugness and arrogance is amazingly expelled by a clue that really does little to imply his guilt; and once this is mentioned, he capitulates in a rather unspectacular and uncharacteristic fashion.<br /><br />All in all, a bold opening to the series, which inevitably advertises and foretells all that is good about Columbo, and, conversely, the problems associated with such ingenuity, i.e maintaining the high standards and particularly, creating a credible and suitably intelligent ending.',\n",
       " 'sentiment': 'pos',\n",
       " 'rating': '7'}"
      ]
     },
     "execution_count": 21,
     "metadata": {},
     "output_type": "execute_result"
    }
   ],
   "source": [
    "reviews[0]"
   ]
  },
  {
   "cell_type": "code",
   "execution_count": 34,
   "metadata": {},
   "outputs": [],
   "source": [
    "df = pd.DataFrame.from_dict(reviews, orient='index')"
   ]
  },
  {
   "cell_type": "code",
   "execution_count": 35,
   "metadata": {},
   "outputs": [
    {
     "data": {
      "text/html": [
       "<div>\n",
       "<style scoped>\n",
       "    .dataframe tbody tr th:only-of-type {\n",
       "        vertical-align: middle;\n",
       "    }\n",
       "\n",
       "    .dataframe tbody tr th {\n",
       "        vertical-align: top;\n",
       "    }\n",
       "\n",
       "    .dataframe thead th {\n",
       "        text-align: right;\n",
       "    }\n",
       "</style>\n",
       "<table border=\"1\" class=\"dataframe\">\n",
       "  <thead>\n",
       "    <tr style=\"text-align: right;\">\n",
       "      <th></th>\n",
       "      <th>text</th>\n",
       "      <th>sentiment</th>\n",
       "      <th>rating</th>\n",
       "    </tr>\n",
       "  </thead>\n",
       "  <tbody>\n",
       "    <tr>\n",
       "      <th>0</th>\n",
       "      <td>This was the first televised episode of the Co...</td>\n",
       "      <td>pos</td>\n",
       "      <td>7</td>\n",
       "    </tr>\n",
       "    <tr>\n",
       "      <th>1</th>\n",
       "      <td>Jim Carrey is good as usual, and even though t...</td>\n",
       "      <td>pos</td>\n",
       "      <td>10</td>\n",
       "    </tr>\n",
       "    <tr>\n",
       "      <th>2</th>\n",
       "      <td>I saw \"A Page of Madness\" in a silent film cou...</td>\n",
       "      <td>pos</td>\n",
       "      <td>10</td>\n",
       "    </tr>\n",
       "    <tr>\n",
       "      <th>3</th>\n",
       "      <td>A very close and sharp discription of the bubb...</td>\n",
       "      <td>pos</td>\n",
       "      <td>10</td>\n",
       "    </tr>\n",
       "    <tr>\n",
       "      <th>4</th>\n",
       "      <td>Terry Gilliam's and David Peoples' teamed up t...</td>\n",
       "      <td>pos</td>\n",
       "      <td>10</td>\n",
       "    </tr>\n",
       "  </tbody>\n",
       "</table>\n",
       "</div>"
      ],
      "text/plain": [
       "                                                text sentiment rating\n",
       "0  This was the first televised episode of the Co...       pos      7\n",
       "1  Jim Carrey is good as usual, and even though t...       pos     10\n",
       "2  I saw \"A Page of Madness\" in a silent film cou...       pos     10\n",
       "3  A very close and sharp discription of the bubb...       pos     10\n",
       "4  Terry Gilliam's and David Peoples' teamed up t...       pos     10"
      ]
     },
     "execution_count": 35,
     "metadata": {},
     "output_type": "execute_result"
    }
   ],
   "source": [
    "df.head()"
   ]
  },
  {
   "attachments": {},
   "cell_type": "markdown",
   "metadata": {},
   "source": [
    "Let's look at values"
   ]
  },
  {
   "cell_type": "code",
   "execution_count": 36,
   "metadata": {},
   "outputs": [
    {
     "data": {
      "text/plain": [
       "1     5100\n",
       "10    4732\n",
       "8     3009\n",
       "4     2696\n",
       "7     2496\n",
       "3     2420\n",
       "2     2284\n",
       "9     2263\n",
       "Name: rating, dtype: int64"
      ]
     },
     "execution_count": 36,
     "metadata": {},
     "output_type": "execute_result"
    }
   ],
   "source": [
    "df['rating'].value_counts()"
   ]
  },
  {
   "cell_type": "code",
   "execution_count": 37,
   "metadata": {},
   "outputs": [
    {
     "name": "stdout",
     "output_type": "stream",
     "text": [
      "<class 'pandas.core.frame.DataFrame'>\n",
      "Int64Index: 25000 entries, 0 to 24999\n",
      "Data columns (total 3 columns):\n",
      " #   Column     Non-Null Count  Dtype \n",
      "---  ------     --------------  ----- \n",
      " 0   text       25000 non-null  object\n",
      " 1   sentiment  25000 non-null  object\n",
      " 2   rating     25000 non-null  object\n",
      "dtypes: object(3)\n",
      "memory usage: 781.2+ KB\n"
     ]
    }
   ],
   "source": [
    "df.info()"
   ]
  },
  {
   "cell_type": "code",
   "execution_count": 38,
   "metadata": {},
   "outputs": [],
   "source": [
    "df['rating'] = df['rating'].astype(int)\n",
    "df['text'] = df['text'].astype(str)\n",
    "df['sentiment'] = df['sentiment'].astype(str)"
   ]
  },
  {
   "cell_type": "code",
   "execution_count": 39,
   "metadata": {},
   "outputs": [
    {
     "data": {
      "image/png": "[encoded data removed]",
      "text/plain": [
       "<Figure size 640x480 with 1 Axes>"
      ]
     },
     "metadata": {},
     "output_type": "display_data"
    }
   ],
   "source": [
    "import matplotlib.pyplot as plt\n",
    "df['rating'].value_counts().sort_index().plot(kind='bar')\n",
    "plt.show()"
   ]
  },
  {
   "cell_type": "code",
   "execution_count": 40,
   "metadata": {},
   "outputs": [
    {
     "data": {
      "text/html": [
       "<div>\n",
       "<style scoped>\n",
       "    .dataframe tbody tr th:only-of-type {\n",
       "        vertical-align: middle;\n",
       "    }\n",
       "\n",
       "    .dataframe tbody tr th {\n",
       "        vertical-align: top;\n",
       "    }\n",
       "\n",
       "    .dataframe thead th {\n",
       "        text-align: right;\n",
       "    }\n",
       "</style>\n",
       "<table border=\"1\" class=\"dataframe\">\n",
       "  <thead>\n",
       "    <tr style=\"text-align: right;\">\n",
       "      <th></th>\n",
       "      <th>text</th>\n",
       "      <th>sentiment</th>\n",
       "      <th>rating</th>\n",
       "    </tr>\n",
       "    <tr>\n",
       "      <th>id</th>\n",
       "      <th></th>\n",
       "      <th></th>\n",
       "      <th></th>\n",
       "    </tr>\n",
       "  </thead>\n",
       "  <tbody>\n",
       "    <tr>\n",
       "      <th>0</th>\n",
       "      <td>This was the first televised episode of the Co...</td>\n",
       "      <td>pos</td>\n",
       "      <td>7</td>\n",
       "    </tr>\n",
       "    <tr>\n",
       "      <th>1</th>\n",
       "      <td>Jim Carrey is good as usual, and even though t...</td>\n",
       "      <td>pos</td>\n",
       "      <td>10</td>\n",
       "    </tr>\n",
       "    <tr>\n",
       "      <th>2</th>\n",
       "      <td>I saw \"A Page of Madness\" in a silent film cou...</td>\n",
       "      <td>pos</td>\n",
       "      <td>10</td>\n",
       "    </tr>\n",
       "    <tr>\n",
       "      <th>3</th>\n",
       "      <td>A very close and sharp discription of the bubb...</td>\n",
       "      <td>pos</td>\n",
       "      <td>10</td>\n",
       "    </tr>\n",
       "    <tr>\n",
       "      <th>4</th>\n",
       "      <td>Terry Gilliam's and David Peoples' teamed up t...</td>\n",
       "      <td>pos</td>\n",
       "      <td>10</td>\n",
       "    </tr>\n",
       "  </tbody>\n",
       "</table>\n",
       "</div>"
      ],
      "text/plain": [
       "                                                 text sentiment  rating\n",
       "id                                                                     \n",
       "0   This was the first televised episode of the Co...       pos       7\n",
       "1   Jim Carrey is good as usual, and even though t...       pos      10\n",
       "2   I saw \"A Page of Madness\" in a silent film cou...       pos      10\n",
       "3   A very close and sharp discription of the bubb...       pos      10\n",
       "4   Terry Gilliam's and David Peoples' teamed up t...       pos      10"
      ]
     },
     "execution_count": 40,
     "metadata": {},
     "output_type": "execute_result"
    }
   ],
   "source": [
    "df.index.name = 'id'\n",
    "df.head()"
   ]
  },
  {
   "cell_type": "code",
   "execution_count": null,
   "metadata": {},
   "outputs": [],
   "source": [
    "df.drop('sentiment', axis=1, inplace=True)"
   ]
  },
  {
   "attachments": {},
   "cell_type": "markdown",
   "metadata": {},
   "source": [
    "Save to csv"
   ]
  },
  {
   "cell_type": "code",
   "execution_count": 43,
   "metadata": {},
   "outputs": [],
   "source": [
    "df.to_csv('/home/projects/sentiment_analysis/train.csv', index=True)"
   ]
  },
  {
   "attachments": {},
   "cell_type": "markdown",
   "metadata": {},
   "source": [
    "Do the same for test"
   ]
  },
  {
   "cell_type": "code",
   "execution_count": null,
   "metadata": {},
   "outputs": [],
   "source": [
    "i = 0\n",
    "for root, dir, files in os.walk('/home/projects/sentiment_analysis/aclImdb/test'):\n",
    "    for file in files:\n",
    "        if file.endswith('.txt'):\n",
    "            with open(os.path.join(root, file), 'r') as f:\n",
    "                text = f.read()\n",
    "                sentiment = root.split('/')[-1]\n",
    "                rating = file.split('_')[1].split('.')[0]\n",
    "                reviews[i] = {'text': text, 'sentiment': sentiment, 'rating': rating}   \n",
    "                i += 1\n",
    "\n",
    "df = pd.DataFrame.from_dict(reviews, orient='index')"
   ]
  },
  {
   "cell_type": "code",
   "execution_count": 46,
   "metadata": {},
   "outputs": [
    {
     "data": {
      "text/html": [
       "<div>\n",
       "<style scoped>\n",
       "    .dataframe tbody tr th:only-of-type {\n",
       "        vertical-align: middle;\n",
       "    }\n",
       "\n",
       "    .dataframe tbody tr th {\n",
       "        vertical-align: top;\n",
       "    }\n",
       "\n",
       "    .dataframe thead th {\n",
       "        text-align: right;\n",
       "    }\n",
       "</style>\n",
       "<table border=\"1\" class=\"dataframe\">\n",
       "  <thead>\n",
       "    <tr style=\"text-align: right;\">\n",
       "      <th></th>\n",
       "      <th>text</th>\n",
       "      <th>sentiment</th>\n",
       "      <th>rating</th>\n",
       "    </tr>\n",
       "  </thead>\n",
       "  <tbody>\n",
       "    <tr>\n",
       "      <th>0</th>\n",
       "      <td>http://www.imdb.com/title/tt0406816/usercommen...</td>\n",
       "      <td>test</td>\n",
       "      <td>neg</td>\n",
       "    </tr>\n",
       "    <tr>\n",
       "      <th>1</th>\n",
       "      <td>http://www.imdb.com/title/tt0406816/usercommen...</td>\n",
       "      <td>test</td>\n",
       "      <td>pos</td>\n",
       "    </tr>\n",
       "    <tr>\n",
       "      <th>2</th>\n",
       "      <td>The final installment sees Sho Aikawa and Riki...</td>\n",
       "      <td>pos</td>\n",
       "      <td>7</td>\n",
       "    </tr>\n",
       "    <tr>\n",
       "      <th>3</th>\n",
       "      <td>Homicide: The Movie proved to be a good wrap-u...</td>\n",
       "      <td>pos</td>\n",
       "      <td>10</td>\n",
       "    </tr>\n",
       "    <tr>\n",
       "      <th>4</th>\n",
       "      <td>As a father of four in his forties I thought t...</td>\n",
       "      <td>pos</td>\n",
       "      <td>7</td>\n",
       "    </tr>\n",
       "  </tbody>\n",
       "</table>\n",
       "</div>"
      ],
      "text/plain": [
       "                                                text sentiment rating\n",
       "0  http://www.imdb.com/title/tt0406816/usercommen...      test    neg\n",
       "1  http://www.imdb.com/title/tt0406816/usercommen...      test    pos\n",
       "2  The final installment sees Sho Aikawa and Riki...       pos      7\n",
       "3  Homicide: The Movie proved to be a good wrap-u...       pos     10\n",
       "4  As a father of four in his forties I thought t...       pos      7"
      ]
     },
     "execution_count": 46,
     "metadata": {},
     "output_type": "execute_result"
    }
   ],
   "source": [
    "df.head()"
   ]
  },
  {
   "cell_type": "code",
   "execution_count": 47,
   "metadata": {},
   "outputs": [],
   "source": [
    "# drop first 2 rows\n",
    "df.drop([0, 1], axis=0, inplace=True)\n",
    "df['rating'] = df['rating'].astype(int)\n",
    "df['text'] = df['text'].astype(str)\n",
    "df['sentiment'] = df['sentiment'].astype(str)\n",
    "\n",
    "df.index.name = 'id'\n",
    "df.head()\n",
    "\n",
    "df.drop('sentiment', axis=1, inplace=True)\n",
    "\n",
    "df.to_csv('/home/projects/sentiment_analysis/test.csv', index=True)"
   ]
  },
  {
   "cell_type": "code",
   "execution_count": 48,
   "metadata": {},
   "outputs": [
    {
     "data": {
      "image/png": "[encoded data removed]",
      "text/plain": [
       "<Figure size 640x480 with 1 Axes>"
      ]
     },
     "metadata": {},
     "output_type": "display_data"
    }
   ],
   "source": [
    "df['rating'].value_counts().sort_index().plot(kind='bar')\n",
    "plt.show()"
   ]
  }
 ],
 "metadata": {
  "kernelspec": {
   "display_name": "sent_analysis",
   "language": "python",
   "name": "python3"
  },
  "language_info": {
   "codemirror_mode": {
    "name": "ipython",
    "version": 3
   },
   "file_extension": ".py",
   "mimetype": "text/x-python",
   "name": "python",
   "nbconvert_exporter": "python",
   "pygments_lexer": "ipython3",
   "version": "3.9.13"
  },
  "orig_nbformat": 4
 },
 "nbformat": 4,
 "nbformat_minor": 2
}
